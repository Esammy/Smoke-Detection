{
 "cells": [
  {
   "cell_type": "markdown",
   "metadata": {},
   "source": [
    "# Welcome to Smoke Detection Dataset"
   ]
  },
  {
   "cell_type": "markdown",
   "metadata": {},
   "source": [
    "## Table of content:\n",
    "* [Introduction](#introduction) \n",
    "    * [Context](#context)\n",
    "    * [About the dataset](#about)\n",
    "    * [Acknowledgement / Credits](#credits)\n",
    "* [Exploratory Data Analysis](#eda)"
   ]
  },
  {
   "cell_type": "markdown",
   "metadata": {},
   "source": [
    "## Introduction <a class=\"anchor\" id=\"introduction\"></a>"
   ]
  },
  {
   "cell_type": "markdown",
   "metadata": {},
   "source": [
    "![](data:image/jpeg;base64,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)\n",
    "\n",
    "### Context <a class=\"anchor\" id=\"context\"></a>\n",
    "A smoke detector is a device that senses smoke, typically as an indicator of fire. Smoke detectors are usually housed in plastic enclosures, typically shaped like a disk about 150 millimetres (6 in) in diameter and 25 millimetres (1 in) thick, but shape and size vary.\n",
    "\n",
    "<b> --> Types of Smoke Detectors </b>\n",
    "\n",
    "<b>Photoelectric Smoke Detector </b><br>\n",
    "A photoelectric smoke detector contains a source of infrared, visible, or ultraviolet light, a lens, and a photoelectric receiver. In some types, the light emitted by the light source passes through the air being tested and reaches the photosensor. The received light intensity will be reduced due to scattering from particles of smoke, air-borne dust, or other substances; the circuitry detects the light intensity and generates an alarm if it is below a specified threshold, potentially due to smoke. Such detectors are also known as optical detectors.\n",
    "\n",
    "<b>Ionization Smoke Detector</b><br>\n",
    "An ionization smoke detector uses a radioisotope to ionize air. If any smoke particles enter the open chamber, some of the ions will attach to the particles and not be available to carry the current in that chamber. An electronic circuit detects that a current difference has developed between the open and sealed chambers, and sounds the alarm\n",
    "<br>\n",
    "The author of this dataset has successfully created a smoke detection device with the help of IOT devices and AI model. ([Acknowledgement / Credits](#credits) )\n",
    "\n",
    "### About the dataset <a class=\"anchor\" id=\"about\"></a>\n",
    "Collection of training data is performed with the help of IOT devices since the goal is to develop a AI based smoke detector device.\n",
    "Many different environments and fire sources have to be sampled to ensure a good dataset for training. A short list of different scenarios which are captured:\n",
    "\n",
    "- Normal indoor<br>\n",
    "- Normal outdoor\n",
    "- Indoor wood fire, firefighter training area\n",
    "- Indoor gas fire, firefighter training area\n",
    "- Outdoor wood, coal, and gas grill\n",
    "- Outdoor high humidity \n",
    "- etc.\n",
    "<br>\n",
    "The dataset is nearly 60.000 readings long. The sample rate is 1Hz for all sensors. To keep track of the data, a UTC timestamp is added to every sensor reading.<br>\n",
    "<br>\n",
    "\n",
    "The dataset contains air properties gotten from the proposed sorrounding of the experiment. <br>The dataset has 16 columns which are:<br>\n",
    "Columns: <a class=\"anchor\" id=\"columns\"></a>\n",
    "1. Unnamed:0 - Index\n",
    "2. UTC - Timestamp UTC seconds<br>\n",
    "3. Temperature - Air temperature measured in Celsius<br>\n",
    "4. Humidity - Air humidity<br>\n",
    "5. TVOC - Total Volatile Organic Compounds; measured in ppb (parts per billion)<br>\n",
    "6. eCo2 - CO2 equivalent concentration; calculated from different values like TVCO<br>\n",
    "7. Raw H2 - Raw molecular hydrogen; not compensated (Bias, temperature, etc.)<br>\n",
    "8. Raw Ethanol - Raw ethanol gas<br>\n",
    "9. Pressure - Air pressure<br>\n",
    "10. PM1.0 - Paticulate matter of diameter less than 1.0 micrometer<br>\n",
    "11. PM2.5 - Paticulate matter of diameter less than 2.5 micrometer<br>\n",
    "12. NC0.5 - Concentration of particulate matter of diameter less than 0.5 micrometers<br>\n",
    "13. NC1.0 - Concentration of particulate matter of diameter less than 1.0 micrometers<br>\n",
    "14. NC2.5 - Concentration of particulate matter of diameter less than 2.5 micrometers<br>\n",
    "15. CNT - Simple Count<br>\n",
    "16. Fire Alarm - (Reality) 1 if there is fire and 0 if to fire<br>\n",
    "\n",
    "\n",
    "### Acknowledgement / Credits <a class=\"anchor\" id=\"credits\"></a>\n",
    "The data is collected by Stefan Blattmann in his project Real-time Smoke Detection with AI-based Sensor Fusion.<br>\n",
    "Author's GitHub : https://github.com/Blatts01"
   ]
  },
  {
   "cell_type": "markdown",
   "metadata": {},
   "source": [
    "## Importing the neccessary libraries"
   ]
  },
  {
   "cell_type": "code",
   "execution_count": 1,
   "metadata": {},
   "outputs": [],
   "source": [
    "# Libraries\n",
    "import numpy as np \n",
    "import pandas as pd\n",
    "import plotly.express as px\n",
    "import seaborn as sns\n",
    "import matplotlib.pyplot as plt\n",
    "\n",
    "#from sklearn.ensemble import GradientBoostingCl\n",
    "from sklearn.linear_model import LogisticRegression\n",
    "from sklearn.tree import ExtraTreeClassifier\n",
    "# ANN\n",
    "\n",
    "from sklearn.model_selection import train_test_split\n",
    "from sklearn.preprocessing import StandardScaler\n",
    "\n",
    "from sklearn.metrics import accuracy_score"
   ]
  },
  {
   "cell_type": "markdown",
   "metadata": {},
   "source": [
    "Table of Contents :\n",
    "1. Introduction\n",
    "2. Importing Required Libraries\n",
    "3. Data Exploration\n",
    "Feature Description\n",
    "Null Value Distribution\n",
    "Data Cleaning\n",
    "Important Observations\n",
    "4. Exploratory Data Analysis (EDA)\n",
    "Feature Analysis With Help Of Target Variable\n",
    "HeatMap\n",
    "Important Observations\n",
    "5. Modelling\n",
    "Data Pre-Processing\n",
    "Model Implementation\n",
    "Accuracy vs Model\n",
    "Time Taken vs Model\n",
    "6. EndNote"
   ]
  },
  {
   "cell_type": "markdown",
   "metadata": {},
   "source": [
    "## Exploratory Data Analysis <a class=\"anchor\" id=\"eda\"></a>"
   ]
  },
  {
   "cell_type": "code",
   "execution_count": 2,
   "metadata": {},
   "outputs": [],
   "source": [
    "# Reading the dataset\n",
    "dataset = pd.read_csv('smoke_detection_iot.csv')\n",
    "data = dataset.copy()"
   ]
  },
  {
   "cell_type": "code",
   "execution_count": 3,
   "metadata": {},
   "outputs": [
    {
     "data": {
      "text/html": [
       "<div>\n",
       "<style scoped>\n",
       "    .dataframe tbody tr th:only-of-type {\n",
       "        vertical-align: middle;\n",
       "    }\n",
       "\n",
       "    .dataframe tbody tr th {\n",
       "        vertical-align: top;\n",
       "    }\n",
       "\n",
       "    .dataframe thead th {\n",
       "        text-align: right;\n",
       "    }\n",
       "</style>\n",
       "<table border=\"1\" class=\"dataframe\">\n",
       "  <thead>\n",
       "    <tr style=\"text-align: right;\">\n",
       "      <th></th>\n",
       "      <th>Unnamed: 0</th>\n",
       "      <th>UTC</th>\n",
       "      <th>Temperature[C]</th>\n",
       "      <th>Humidity[%]</th>\n",
       "      <th>TVOC[ppb]</th>\n",
       "      <th>eCO2[ppm]</th>\n",
       "      <th>Raw H2</th>\n",
       "      <th>Raw Ethanol</th>\n",
       "      <th>Pressure[hPa]</th>\n",
       "      <th>PM1.0</th>\n",
       "      <th>PM2.5</th>\n",
       "      <th>NC0.5</th>\n",
       "      <th>NC1.0</th>\n",
       "      <th>NC2.5</th>\n",
       "      <th>CNT</th>\n",
       "      <th>Fire Alarm</th>\n",
       "    </tr>\n",
       "  </thead>\n",
       "  <tbody>\n",
       "    <tr>\n",
       "      <th>32510</th>\n",
       "      <td>32510</td>\n",
       "      <td>1654768859</td>\n",
       "      <td>19.140</td>\n",
       "      <td>51.60</td>\n",
       "      <td>284</td>\n",
       "      <td>400</td>\n",
       "      <td>13117</td>\n",
       "      <td>19987</td>\n",
       "      <td>939.487</td>\n",
       "      <td>0.55</td>\n",
       "      <td>0.58</td>\n",
       "      <td>3.81</td>\n",
       "      <td>0.594</td>\n",
       "      <td>0.013</td>\n",
       "      <td>7516</td>\n",
       "      <td>1</td>\n",
       "    </tr>\n",
       "    <tr>\n",
       "      <th>39433</th>\n",
       "      <td>39433</td>\n",
       "      <td>1654775782</td>\n",
       "      <td>24.950</td>\n",
       "      <td>51.54</td>\n",
       "      <td>1155</td>\n",
       "      <td>479</td>\n",
       "      <td>12856</td>\n",
       "      <td>19448</td>\n",
       "      <td>938.926</td>\n",
       "      <td>1.86</td>\n",
       "      <td>1.93</td>\n",
       "      <td>12.80</td>\n",
       "      <td>1.996</td>\n",
       "      <td>0.045</td>\n",
       "      <td>14439</td>\n",
       "      <td>1</td>\n",
       "    </tr>\n",
       "    <tr>\n",
       "      <th>45043</th>\n",
       "      <td>45043</td>\n",
       "      <td>1654781392</td>\n",
       "      <td>26.610</td>\n",
       "      <td>49.27</td>\n",
       "      <td>1214</td>\n",
       "      <td>404</td>\n",
       "      <td>12931</td>\n",
       "      <td>19427</td>\n",
       "      <td>938.746</td>\n",
       "      <td>1.40</td>\n",
       "      <td>1.45</td>\n",
       "      <td>9.63</td>\n",
       "      <td>1.502</td>\n",
       "      <td>0.034</td>\n",
       "      <td>20049</td>\n",
       "      <td>1</td>\n",
       "    </tr>\n",
       "    <tr>\n",
       "      <th>15887</th>\n",
       "      <td>15887</td>\n",
       "      <td>1654749218</td>\n",
       "      <td>12.017</td>\n",
       "      <td>52.91</td>\n",
       "      <td>1159</td>\n",
       "      <td>418</td>\n",
       "      <td>12875</td>\n",
       "      <td>19442</td>\n",
       "      <td>938.797</td>\n",
       "      <td>1.94</td>\n",
       "      <td>2.01</td>\n",
       "      <td>13.32</td>\n",
       "      <td>2.077</td>\n",
       "      <td>0.047</td>\n",
       "      <td>15887</td>\n",
       "      <td>1</td>\n",
       "    </tr>\n",
       "    <tr>\n",
       "      <th>180</th>\n",
       "      <td>180</td>\n",
       "      <td>1654733511</td>\n",
       "      <td>22.380</td>\n",
       "      <td>53.38</td>\n",
       "      <td>0</td>\n",
       "      <td>402</td>\n",
       "      <td>12598</td>\n",
       "      <td>19689</td>\n",
       "      <td>939.810</td>\n",
       "      <td>0.00</td>\n",
       "      <td>0.00</td>\n",
       "      <td>0.00</td>\n",
       "      <td>0.000</td>\n",
       "      <td>0.000</td>\n",
       "      <td>180</td>\n",
       "      <td>0</td>\n",
       "    </tr>\n",
       "  </tbody>\n",
       "</table>\n",
       "</div>"
      ],
      "text/plain": [
       "       Unnamed: 0         UTC  Temperature[C]  Humidity[%]  TVOC[ppb]  \\\n",
       "32510       32510  1654768859          19.140        51.60        284   \n",
       "39433       39433  1654775782          24.950        51.54       1155   \n",
       "45043       45043  1654781392          26.610        49.27       1214   \n",
       "15887       15887  1654749218          12.017        52.91       1159   \n",
       "180           180  1654733511          22.380        53.38          0   \n",
       "\n",
       "       eCO2[ppm]  Raw H2  Raw Ethanol  Pressure[hPa]  PM1.0  PM2.5  NC0.5  \\\n",
       "32510        400   13117        19987        939.487   0.55   0.58   3.81   \n",
       "39433        479   12856        19448        938.926   1.86   1.93  12.80   \n",
       "45043        404   12931        19427        938.746   1.40   1.45   9.63   \n",
       "15887        418   12875        19442        938.797   1.94   2.01  13.32   \n",
       "180          402   12598        19689        939.810   0.00   0.00   0.00   \n",
       "\n",
       "       NC1.0  NC2.5    CNT  Fire Alarm  \n",
       "32510  0.594  0.013   7516           1  \n",
       "39433  1.996  0.045  14439           1  \n",
       "45043  1.502  0.034  20049           1  \n",
       "15887  2.077  0.047  15887           1  \n",
       "180    0.000  0.000    180           0  "
      ]
     },
     "execution_count": 3,
     "metadata": {},
     "output_type": "execute_result"
    }
   ],
   "source": [
    "# Displaying 5 random samples from the dataset first 5 data\n",
    "data.sample(5)"
   ]
  },
  {
   "cell_type": "code",
   "execution_count": 23,
   "metadata": {},
   "outputs": [
    {
     "data": {
      "text/plain": [
       "(62630, 16)"
      ]
     },
     "execution_count": 23,
     "metadata": {},
     "output_type": "execute_result"
    }
   ],
   "source": [
    "data.shape"
   ]
  },
  {
   "cell_type": "markdown",
   "metadata": {},
   "source": [
    "The dataset has about 62630 rows and 16 columns\n",
    "\n",
    "\n",
    "Let's find out the columns present in the dataset"
   ]
  },
  {
   "cell_type": "code",
   "execution_count": 22,
   "metadata": {},
   "outputs": [
    {
     "data": {
      "text/plain": [
       "Index(['Unnamed: 0', 'UTC', 'Temperature[C]', 'Humidity[%]', 'TVOC[ppb]',\n",
       "       'eCO2[ppm]', 'Raw H2', 'Raw Ethanol', 'Pressure[hPa]', 'PM1.0', 'PM2.5',\n",
       "       'NC0.5', 'NC1.0', 'NC2.5', 'CNT', 'Fire Alarm'],\n",
       "      dtype='object')"
      ]
     },
     "execution_count": 22,
     "metadata": {},
     "output_type": "execute_result"
    }
   ],
   "source": [
    "data.columns"
   ]
  },
  {
   "cell_type": "markdown",
   "metadata": {},
   "source": [
    "16 Columns present in the dataset. See full meaning for each of the columns [here](#columns)"
   ]
  },
  {
   "cell_type": "code",
   "execution_count": 24,
   "metadata": {},
   "outputs": [
    {
     "name": "stdout",
     "output_type": "stream",
     "text": [
      "<class 'pandas.core.frame.DataFrame'>\n",
      "RangeIndex: 62630 entries, 0 to 62629\n",
      "Data columns (total 16 columns):\n",
      " #   Column          Non-Null Count  Dtype  \n",
      "---  ------          --------------  -----  \n",
      " 0   Unnamed: 0      62630 non-null  int64  \n",
      " 1   UTC             62630 non-null  int64  \n",
      " 2   Temperature[C]  62630 non-null  float64\n",
      " 3   Humidity[%]     62630 non-null  float64\n",
      " 4   TVOC[ppb]       62630 non-null  int64  \n",
      " 5   eCO2[ppm]       62630 non-null  int64  \n",
      " 6   Raw H2          62630 non-null  int64  \n",
      " 7   Raw Ethanol     62630 non-null  int64  \n",
      " 8   Pressure[hPa]   62630 non-null  float64\n",
      " 9   PM1.0           62630 non-null  float64\n",
      " 10  PM2.5           62630 non-null  float64\n",
      " 11  NC0.5           62630 non-null  float64\n",
      " 12  NC1.0           62630 non-null  float64\n",
      " 13  NC2.5           62630 non-null  float64\n",
      " 14  CNT             62630 non-null  int64  \n",
      " 15  Fire Alarm      62630 non-null  int64  \n",
      "dtypes: float64(8), int64(8)\n",
      "memory usage: 7.6 MB\n"
     ]
    }
   ],
   "source": [
    "data.info()"
   ]
  },
  {
   "cell_type": "markdown",
   "metadata": {},
   "source": [
    "Since the total number of rows in our dataset is 62630 and the total number for each of the rows corresponds to 62630, it therefore means there are <b>no missing data</b> in our dataset.\n",
    "\n",
    "We can confirm further by checking for missing value counts and a graphical display to check as well "
   ]
  },
  {
   "cell_type": "code",
   "execution_count": 26,
   "metadata": {},
   "outputs": [
    {
     "data": {
      "text/plain": [
       "Unnamed: 0        0\n",
       "UTC               0\n",
       "Temperature[C]    0\n",
       "Humidity[%]       0\n",
       "TVOC[ppb]         0\n",
       "eCO2[ppm]         0\n",
       "Raw H2            0\n",
       "Raw Ethanol       0\n",
       "Pressure[hPa]     0\n",
       "PM1.0             0\n",
       "PM2.5             0\n",
       "NC0.5             0\n",
       "NC1.0             0\n",
       "NC2.5             0\n",
       "CNT               0\n",
       "Fire Alarm        0\n",
       "dtype: int64"
      ]
     },
     "execution_count": 26,
     "metadata": {},
     "output_type": "execute_result"
    }
   ],
   "source": [
    "data.isna().sum()"
   ]
  },
  {
   "cell_type": "code",
   "execution_count": 27,
   "metadata": {},
   "outputs": [
    {
     "data": {
      "text/plain": [
       "<matplotlib.axes._subplots.AxesSubplot at 0x20945efe608>"
      ]
     },
     "execution_count": 27,
     "metadata": {},
     "output_type": "execute_result"
    },
    {
     "data": {
      "image/png": "[encoded data removed]",
      "text/plain": [
       "<Figure size 432x288 with 2 Axes>"
      ]
     },
     "metadata": {
      "needs_background": "light"
     },
     "output_type": "display_data"
    }
   ],
   "source": [
    "sns.heatmap(data.isnull(), cmap='viridis')"
   ]
  },
  {
   "cell_type": "markdown",
   "metadata": {},
   "source": [
    "Our heatmap looks clean on each of the columns. <br>\n",
    "now we can categoricaly say our dataset is void of missing values"
   ]
  },
  {
   "cell_type": "markdown",
   "metadata": {},
   "source": [
    "<br><b>Note:</b> In the first index of the column (Unnamed:0) is not relevant as it is just idexing the rows as such we will drop it"
   ]
  },
  {
   "cell_type": "code",
   "execution_count": null,
   "metadata": {},
   "outputs": [],
   "source": [
    "data = data.drop(['Unnamed: 0'], axis = 1)"
   ]
  },
  {
   "cell_type": "code",
   "execution_count": 30,
   "metadata": {},
   "outputs": [
    {
     "name": "stdout",
     "output_type": "stream",
     "text": [
      "Unnamed: 0 : [    0     1     2 ... 62627 62628 62629]\n",
      "UTC : [1654733331 1654733332 1654733333 ... 1655130049 1655130050 1655130051]\n",
      "Temperature[C] : [20.    20.015 20.029 ... 15.714 16.333 16.957]\n",
      "Humidity[%] : [57.36 56.67 55.96 ... 16.59 15.99 15.84]\n",
      "TVOC[ppb] : [  0  30  36 ... 513 517 643]\n",
      "eCO2[ppm] : [ 400  403  406 ... 1365 1013  948]\n",
      "Raw H2 : [12306 12345 12374 ... 13727 13718 13731]\n",
      "Raw Ethanol : [18520 18651 18764 ... 20413 20468 20482]\n",
      "Pressure[hPa] : [939.735 939.744 939.738 ... 936.635 936.642 936.659]\n",
      "PM1.0 : [0.   0.9  0.89 ... 4.98 4.57 3.62]\n",
      "PM2.5 : [0.   3.78 3.71 ... 5.17 4.04 3.76]\n",
      "NC0.5 : [ 0.    0.14  0.13 ... 26.73 24.89 19.27]\n",
      "NC1.0 : [0.    4.369 4.289 ... 3.881 0.641 0.731]\n",
      "NC2.5 : [0.    2.78  2.73  ... 0.202 0.16  0.121]\n",
      "CNT : [    0     1     2 ... 24991 24992 24993]\n",
      "Fire Alarm : [0 1]\n"
     ]
    }
   ],
   "source": [
    "# checking for wrong entries such as special symbols e.g -,?,*,#,$ etc.\n",
    "for col in data.columns:\n",
    "    print('{} : {}'.format(col, data[col].unique()))"
   ]
  },
  {
   "cell_type": "markdown",
   "metadata": {},
   "source": [
    "It appears we don't have any character or symbols so we proceed with our analysis"
   ]
  },
  {
   "cell_type": "markdown",
   "metadata": {},
   "source": [
    "Let's observe the correlation between each of the columns"
   ]
  },
  {
   "cell_type": "code",
   "execution_count": null,
   "metadata": {},
   "outputs": [
    {
     "data": {
      "text/plain": [
       "<seaborn.axisgrid.PairGrid at 0x20946d01348>"
      ]
     },
     "execution_count": 32,
     "metadata": {},
     "output_type": "execute_result"
    }
   ],
   "source": [
    "# Graph plot with each of the columns in the dataset \n",
    "sns.pairplot(data)"
   ]
  },
  {
   "cell_type": "code",
   "execution_count": null,
   "metadata": {},
   "outputs": [],
   "source": [
    "data.corr()"
   ]
  },
  {
   "cell_type": "markdown",
   "metadata": {},
   "source": [
    "#### Feature Selection <a class=\"anchor\" id=\"feature_s\"></a>"
   ]
  },
  {
   "cell_type": "code",
   "execution_count": null,
   "metadata": {},
   "outputs": [],
   "source": [
    "When training a machine learning model, it is important that you sieve out the features in your dataset that exhibit multicollinearity. As such we will be using <b>VIF - Variance Inflation Factor</b> to get our features. The VIF allows youo to determine the strength of the correlation between the various independent variable."
   ]
  },
  {
   "cell_type": "code",
   "execution_count": null,
   "metadata": {},
   "outputs": [],
   "source": [
    "def vif(dataframe, features):\n",
    "    vif, tolerance = {}, {}\n",
    "    \n",
    "    # all the features that you want to examine\n",
    "    for feature in features:\n",
    "        # Extracting all the other features you will regress against \n",
    "        x = [f for f in features if f != feature]\n",
    "        x, y = df[x], df[feature]\n",
    "        \n",
    "        # Extract r-rsquared from the fit\n",
    "        r2 = LinearRegression().fit(x, y).score(x,y)\n",
    "        \n",
    "        # Calculate the tolerance \n",
    "        tolerance[feature] = 1 - r2\n",
    "        \n",
    "        # calculate VIF \n",
    "        vif[feature] = 1/(tolerance[feature])\n",
    "        \n",
    "        # Return VIF dataframe \n",
    "        return pd.DataFrame({'VIF':vif, 'Tolerance': tolerance})"
   ]
  },
  {
   "cell_type": "code",
   "execution_count": null,
   "metadata": {},
   "outputs": [],
   "source": []
  },
  {
   "cell_type": "code",
   "execution_count": null,
   "metadata": {},
   "outputs": [],
   "source": []
  },
  {
   "cell_type": "code",
   "execution_count": null,
   "metadata": {},
   "outputs": [],
   "source": []
  },
  {
   "cell_type": "code",
   "execution_count": null,
   "metadata": {},
   "outputs": [],
   "source": []
  },
  {
   "cell_type": "code",
   "execution_count": null,
   "metadata": {},
   "outputs": [],
   "source": []
  },
  {
   "cell_type": "code",
   "execution_count": null,
   "metadata": {},
   "outputs": [],
   "source": []
  },
  {
   "cell_type": "code",
   "execution_count": null,
   "metadata": {},
   "outputs": [],
   "source": []
  },
  {
   "cell_type": "code",
   "execution_count": null,
   "metadata": {},
   "outputs": [],
   "source": []
  }
 ],
 "metadata": {
  "kernelspec": {
   "display_name": "Python 3",
   "language": "python",
   "name": "python3"
  },
  "language_info": {
   "codemirror_mode": {
    "name": "ipython",
    "version": 3
   },
   "file_extension": ".py",
   "mimetype": "text/x-python",
   "name": "python",
   "nbconvert_exporter": "python",
   "pygments_lexer": "ipython3",
   "version": "3.7.6"
  }
 },
 "nbformat": 4,
 "nbformat_minor": 4
}
